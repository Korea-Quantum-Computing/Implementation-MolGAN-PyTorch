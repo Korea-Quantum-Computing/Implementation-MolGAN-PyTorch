{
 "cells": [
  {
   "cell_type": "code",
   "execution_count": 1,
   "metadata": {},
   "outputs": [],
   "source": [
    "import os\n",
    "import logging\n",
    "import sys\n",
    "sys.path.append('../')\n",
    "\n",
    "from rdkit import RDLogger\n",
    "from args import get_GAN_config\n",
    "from util_dir.utils_io import get_date_postfix\n",
    "\n",
    "os.environ[\"CUDA_VISIBLE_DEVICES\"] = \"1\"\n",
    "\n",
    "# Remove flooding logs.\n",
    "lg = RDLogger.logger()\n",
    "lg.setLevel(RDLogger.CRITICAL)\n",
    "\n",
    "import rdkit\n",
    "import torch\n",
    "import torch.nn as nn\n",
    "import torch.nn.functional as F\n",
    "from torch.backends import cudnn\n",
    "\n",
    "\n",
    "from pysmiles import read_smiles\n",
    "from layers import GraphConvolution, GraphAggregation, MultiGraphConvolutionLayers, MultiDenseLayer\n",
    "\n",
    "import numpy as np\n",
    "\n",
    "\n",
    "# TqdmWarning: IProgress not found. Please update jupyter and ipywidgets.\n",
    "# pip install ipywidgets"
   ]
  },
  {
   "cell_type": "markdown",
   "metadata": {},
   "source": [
    "### Set config"
   ]
  },
  {
   "cell_type": "code",
   "execution_count": 2,
   "metadata": {},
   "outputs": [
    {
     "name": "stderr",
     "output_type": "stream",
     "text": [
      "No traceback available to show.\n"
     ]
    }
   ],
   "source": [
    "config = get_GAN_config()\n",
    "%tb"
   ]
  },
  {
   "cell_type": "code",
   "execution_count": 3,
   "metadata": {},
   "outputs": [
    {
     "data": {
      "text/plain": [
       "Namespace(z_dim=8, g_conv_dim=[128, 256, 512], d_conv_dim=[[128, 64], 128, [128, 64]], lambda_cls=1, lambda_rec=10, lambda_gp=10.0, post_method='softmax', batch_size=32, num_epochs=150, g_lr=0.0001, d_lr=0.0001, dropout=0.0, n_critic=5, resume_epoch=None, test_epochs=100, num_workers=1, mode='train', mol_data_dir='data/qm9_5k.sparsedataset', saving_dir='../exp_results/GAN/', log_step=1, sample_step=1000, model_save_step=1, lr_update_step=1000, lambda_wgan=0.0)"
      ]
     },
     "execution_count": 3,
     "metadata": {},
     "output_type": "execute_result"
    }
   ],
   "source": [
    "config"
   ]
  },
  {
   "cell_type": "code",
   "execution_count": 4,
   "metadata": {},
   "outputs": [],
   "source": [
    "config.saving_dir = os.path.join(config.saving_dir, get_date_postfix())\n",
    "config.log_dir_path = os.path.join(config.saving_dir, 'log_dir')\n",
    "config.model_dir_path = os.path.join(config.saving_dir, 'model_dir')\n",
    "config.img_dir_path = os.path.join(config.saving_dir, 'img_dir')"
   ]
  },
  {
   "cell_type": "code",
   "execution_count": 5,
   "metadata": {},
   "outputs": [],
   "source": [
    "# Create directories if not exist.\n",
    "if not os.path.exists(config.log_dir_path):\n",
    "    os.makedirs(config.log_dir_path)\n",
    "if not os.path.exists(config.model_dir_path):\n",
    "    os.makedirs(config.model_dir_path)\n",
    "if not os.path.exists(config.img_dir_path):\n",
    "    os.makedirs(config.img_dir_path)"
   ]
  },
  {
   "cell_type": "code",
   "execution_count": 6,
   "metadata": {},
   "outputs": [],
   "source": [
    "log_p_name = os.path.join(config.log_dir_path, get_date_postfix() + '_logger.log')\n",
    "logging.basicConfig(filename=log_p_name, level=logging.INFO)\n",
    "logging.info(config)"
   ]
  },
  {
   "cell_type": "code",
   "execution_count": 7,
   "metadata": {},
   "outputs": [],
   "source": [
    "config.mol_data_dir = '../data/qm9_5k.sparsedataset'"
   ]
  },
  {
   "cell_type": "markdown",
   "metadata": {},
   "source": [
    "### Dataloader"
   ]
  },
  {
   "cell_type": "code",
   "execution_count": 8,
   "metadata": {},
   "outputs": [],
   "source": [
    "from data.sparse_molecular_dataset import SparseMolecularDataset"
   ]
  },
  {
   "cell_type": "code",
   "execution_count": 9,
   "metadata": {},
   "outputs": [],
   "source": [
    "data = SparseMolecularDataset()\n",
    "data.load(config.mol_data_dir)"
   ]
  },
  {
   "cell_type": "code",
   "execution_count": 11,
   "metadata": {},
   "outputs": [
    {
     "name": "stdout",
     "output_type": "stream",
     "text": [
      "Device:  cuda\n"
     ]
    }
   ],
   "source": [
    "# Model configurations.\n",
    "z_dim = config.z_dim\n",
    "m_dim = data.atom_num_types\n",
    "b_dim = data.bond_num_types\n",
    "g_conv_dim = config.g_conv_dim\n",
    "d_conv_dim = config.d_conv_dim\n",
    "la = config.lambda_wgan\n",
    "lambda_rec = config.lambda_rec\n",
    "la_gp = config.lambda_gp\n",
    "post_method = config.post_method\n",
    "metric = 'validity,qed'\n",
    "# Training configurations.\n",
    "batch_size = config.batch_size\n",
    "num_epochs = config.num_epochs\n",
    "num_steps = (len(data) // batch_size)\n",
    "g_lr = config.g_lr\n",
    "d_lr = config.d_lr\n",
    "dropout = config.dropout\n",
    "if  la > 0:\n",
    "    n_critic = config.n_critic\n",
    "else:\n",
    "    n_critic = 1\n",
    "resume_epoch = config.resume_epoch\n",
    "# Training or testing.\n",
    "mode = config.mode\n",
    "\n",
    "# Miscellaneous.\n",
    "device = torch.device('cuda' if torch.cuda.is_available() else 'cpu')\n",
    "print('Device: ', device)\n",
    "# Directories.\n",
    "log_dir_path = config.log_dir_path\n",
    "model_dir_path = config.model_dir_path\n",
    "img_dir_path = config.img_dir_path\n",
    "\n",
    "# Step size.\n",
    "model_save_step = config.model_save_step"
   ]
  },
  {
   "cell_type": "markdown",
   "metadata": {},
   "source": [
    "### Build model"
   ]
  },
  {
   "cell_type": "code",
   "execution_count": 12,
   "metadata": {},
   "outputs": [],
   "source": [
    "class Generator(nn.Module):\n",
    "    \"\"\"Generator network.\"\"\"\n",
    "\n",
    "    def __init__(self, conv_dims, z_dim, vertexes, edges, nodes, dropout_rate):\n",
    "        super(Generator, self).__init__()\n",
    "        self.activation_f = torch.nn.Tanh()\n",
    "        self.multi_dense_layer = MultiDenseLayer(z_dim, conv_dims, self.activation_f)\n",
    "\n",
    "        self.vertexes = vertexes\n",
    "        self.edges = edges\n",
    "        self.nodes = nodes\n",
    "\n",
    "        self.edges_layer = nn.Linear(conv_dims[-1], edges * vertexes * vertexes)\n",
    "        self.nodes_layer = nn.Linear(conv_dims[-1], vertexes * nodes)\n",
    "        self.dropout = nn.Dropout(p=dropout_rate)\n",
    "\n",
    "    def forward(self, x):\n",
    "        output = self.multi_dense_layer(x)\n",
    "        edges_logits = self.edges_layer(output).view(-1, self.edges, self.vertexes, self.vertexes)\n",
    "        edges_logits = (edges_logits + edges_logits.permute(0, 1, 3, 2)) / 2\n",
    "        edges_logits = self.dropout(edges_logits.permute(0, 2, 3, 1))\n",
    "\n",
    "        nodes_logits = self.nodes_layer(output)\n",
    "        nodes_logits = self.dropout(nodes_logits.view(-1, self.vertexes, self.nodes))\n",
    "\n",
    "        return edges_logits, nodes_logits"
   ]
  },
  {
   "cell_type": "code",
   "execution_count": 13,
   "metadata": {},
   "outputs": [],
   "source": [
    "class Discriminator(nn.Module):\n",
    "    \"\"\"Discriminator network with PatchGAN.\"\"\"\n",
    "\n",
    "    def __init__(self, conv_dim, m_dim, b_dim, with_features=False, f_dim=0, dropout_rate=0.):\n",
    "        super(Discriminator, self).__init__()\n",
    "        self.activation_f = torch.nn.Tanh()\n",
    "        graph_conv_dim, aux_dim, linear_dim = conv_dim\n",
    "        # discriminator\n",
    "        self.gcn_layer = GraphConvolution(m_dim, graph_conv_dim, b_dim, with_features, f_dim, dropout_rate)\n",
    "        self.agg_layer = GraphAggregation(graph_conv_dim[-1] + m_dim, aux_dim, self.activation_f, with_features, f_dim,\n",
    "                                          dropout_rate)\n",
    "        self.multi_dense_layer = MultiDenseLayer(aux_dim, linear_dim, self.activation_f, dropout_rate=dropout_rate)\n",
    "\n",
    "        self.output_layer = nn.Linear(linear_dim[-1], 1)\n",
    "\n",
    "    def forward(self, adj, hidden, node, activation=None):\n",
    "        adj = adj[:, :, :, 1:].permute(0, 3, 1, 2)\n",
    "        h_1 = self.gcn_layer(node, adj, hidden)\n",
    "        h = self.agg_layer(h_1, node, hidden)\n",
    "        h = self.multi_dense_layer(h)\n",
    "\n",
    "        output = self.output_layer(h)\n",
    "        output = activation(output) if activation is not None else output\n",
    "\n",
    "        return output, h"
   ]
  },
  {
   "cell_type": "code",
   "execution_count": 14,
   "metadata": {},
   "outputs": [],
   "source": [
    "G = Generator(g_conv_dim,\n",
    "          z_dim,\n",
    "          data.vertexes,\n",
    "          data.bond_num_types,\n",
    "          data.atom_num_types,\n",
    "          dropout\n",
    ")"
   ]
  },
  {
   "cell_type": "code",
   "execution_count": 15,
   "metadata": {},
   "outputs": [],
   "source": [
    "D = Discriminator(d_conv_dim, m_dim, b_dim - 1, dropout)\n",
    "V = Discriminator(d_conv_dim, m_dim, b_dim - 1, dropout)"
   ]
  },
  {
   "cell_type": "code",
   "execution_count": 16,
   "metadata": {},
   "outputs": [],
   "source": [
    "def print_network(model, name, log=None):\n",
    "    \"\"\"Print out the network information.\"\"\"\n",
    "    num_params = 0\n",
    "    for p in model.parameters():\n",
    "        num_params += p.numel()\n",
    "    print(model)\n",
    "    print(name)\n",
    "    print(\"The number of parameters: {}\".format(num_params))\n",
    "    if log is not None:\n",
    "        log.info(model)\n",
    "        log.info(name)\n",
    "        log.info(\"The number of parameters: {}\".format(num_params))"
   ]
  },
  {
   "cell_type": "code",
   "execution_count": 17,
   "metadata": {},
   "outputs": [
    {
     "name": "stdout",
     "output_type": "stream",
     "text": [
      "Generator(\n",
      "  (activation_f): Tanh()\n",
      "  (multi_dense_layer): MultiDenseLayer(\n",
      "    (linear_layer): Sequential(\n",
      "      (0): Linear(in_features=8, out_features=128, bias=True)\n",
      "      (1): Dropout(p=0.0, inplace=False)\n",
      "      (2): Tanh()\n",
      "      (3): Linear(in_features=128, out_features=256, bias=True)\n",
      "      (4): Dropout(p=0.0, inplace=False)\n",
      "      (5): Tanh()\n",
      "      (6): Linear(in_features=256, out_features=512, bias=True)\n",
      "      (7): Dropout(p=0.0, inplace=False)\n",
      "      (8): Tanh()\n",
      "    )\n",
      "  )\n",
      "  (edges_layer): Linear(in_features=512, out_features=405, bias=True)\n",
      "  (nodes_layer): Linear(in_features=512, out_features=45, bias=True)\n",
      "  (dropout): Dropout(p=0.0, inplace=False)\n",
      ")\n",
      "G\n",
      "The number of parameters: 396610\n",
      "Discriminator(\n",
      "  (activation_f): Tanh()\n",
      "  (gcn_layer): GraphConvolution(\n",
      "    (activation_f): Tanh()\n",
      "    (multi_graph_convolution_layers): MultiGraphConvolutionLayers(\n",
      "      (conv_nets): ModuleList(\n",
      "        (0): GraphConvolutionLayer(\n",
      "          (adj_list): ModuleList(\n",
      "            (0): Linear(in_features=5, out_features=128, bias=True)\n",
      "            (1): Linear(in_features=5, out_features=128, bias=True)\n",
      "            (2): Linear(in_features=5, out_features=128, bias=True)\n",
      "            (3): Linear(in_features=5, out_features=128, bias=True)\n",
      "          )\n",
      "          (linear_2): Linear(in_features=5, out_features=128, bias=True)\n",
      "          (activation): Tanh()\n",
      "          (dropout): Dropout(p=0.0, inplace=False)\n",
      "        )\n",
      "        (1): GraphConvolutionLayer(\n",
      "          (adj_list): ModuleList(\n",
      "            (0): Linear(in_features=133, out_features=64, bias=True)\n",
      "            (1): Linear(in_features=133, out_features=64, bias=True)\n",
      "            (2): Linear(in_features=133, out_features=64, bias=True)\n",
      "            (3): Linear(in_features=133, out_features=64, bias=True)\n",
      "          )\n",
      "          (linear_2): Linear(in_features=133, out_features=64, bias=True)\n",
      "          (activation): Tanh()\n",
      "          (dropout): Dropout(p=0.0, inplace=False)\n",
      "        )\n",
      "      )\n",
      "    )\n",
      "  )\n",
      "  (agg_layer): GraphAggregation(\n",
      "    (activation): Tanh()\n",
      "    (i): Sequential(\n",
      "      (0): Linear(in_features=69, out_features=128, bias=True)\n",
      "      (1): Sigmoid()\n",
      "    )\n",
      "    (j): Sequential(\n",
      "      (0): Linear(in_features=69, out_features=128, bias=True)\n",
      "      (1): Tanh()\n",
      "    )\n",
      "    (dropout): Dropout(p=0.0, inplace=False)\n",
      "  )\n",
      "  (multi_dense_layer): MultiDenseLayer(\n",
      "    (linear_layer): Sequential(\n",
      "      (0): Linear(in_features=128, out_features=128, bias=True)\n",
      "      (1): Dropout(p=0.0, inplace=False)\n",
      "      (2): Tanh()\n",
      "      (3): Linear(in_features=128, out_features=64, bias=True)\n",
      "      (4): Dropout(p=0.0, inplace=False)\n",
      "      (5): Tanh()\n",
      "    )\n",
      "  )\n",
      "  (output_layer): Linear(in_features=64, out_features=1, bias=True)\n",
      ")\n",
      "D\n",
      "The number of parameters: 89473\n",
      "Discriminator(\n",
      "  (activation_f): Tanh()\n",
      "  (gcn_layer): GraphConvolution(\n",
      "    (activation_f): Tanh()\n",
      "    (multi_graph_convolution_layers): MultiGraphConvolutionLayers(\n",
      "      (conv_nets): ModuleList(\n",
      "        (0): GraphConvolutionLayer(\n",
      "          (adj_list): ModuleList(\n",
      "            (0): Linear(in_features=5, out_features=128, bias=True)\n",
      "            (1): Linear(in_features=5, out_features=128, bias=True)\n",
      "            (2): Linear(in_features=5, out_features=128, bias=True)\n",
      "            (3): Linear(in_features=5, out_features=128, bias=True)\n",
      "          )\n",
      "          (linear_2): Linear(in_features=5, out_features=128, bias=True)\n",
      "          (activation): Tanh()\n",
      "          (dropout): Dropout(p=0.0, inplace=False)\n",
      "        )\n",
      "        (1): GraphConvolutionLayer(\n",
      "          (adj_list): ModuleList(\n",
      "            (0): Linear(in_features=133, out_features=64, bias=True)\n",
      "            (1): Linear(in_features=133, out_features=64, bias=True)\n",
      "            (2): Linear(in_features=133, out_features=64, bias=True)\n",
      "            (3): Linear(in_features=133, out_features=64, bias=True)\n",
      "          )\n",
      "          (linear_2): Linear(in_features=133, out_features=64, bias=True)\n",
      "          (activation): Tanh()\n",
      "          (dropout): Dropout(p=0.0, inplace=False)\n",
      "        )\n",
      "      )\n",
      "    )\n",
      "  )\n",
      "  (agg_layer): GraphAggregation(\n",
      "    (activation): Tanh()\n",
      "    (i): Sequential(\n",
      "      (0): Linear(in_features=69, out_features=128, bias=True)\n",
      "      (1): Sigmoid()\n",
      "    )\n",
      "    (j): Sequential(\n",
      "      (0): Linear(in_features=69, out_features=128, bias=True)\n",
      "      (1): Tanh()\n",
      "    )\n",
      "    (dropout): Dropout(p=0.0, inplace=False)\n",
      "  )\n",
      "  (multi_dense_layer): MultiDenseLayer(\n",
      "    (linear_layer): Sequential(\n",
      "      (0): Linear(in_features=128, out_features=128, bias=True)\n",
      "      (1): Dropout(p=0.0, inplace=False)\n",
      "      (2): Tanh()\n",
      "      (3): Linear(in_features=128, out_features=64, bias=True)\n",
      "      (4): Dropout(p=0.0, inplace=False)\n",
      "      (5): Tanh()\n",
      "    )\n",
      "  )\n",
      "  (output_layer): Linear(in_features=64, out_features=1, bias=True)\n",
      ")\n",
      "V\n",
      "The number of parameters: 89473\n"
     ]
    },
    {
     "data": {
      "text/plain": [
       "Discriminator(\n",
       "  (activation_f): Tanh()\n",
       "  (gcn_layer): GraphConvolution(\n",
       "    (activation_f): Tanh()\n",
       "    (multi_graph_convolution_layers): MultiGraphConvolutionLayers(\n",
       "      (conv_nets): ModuleList(\n",
       "        (0): GraphConvolutionLayer(\n",
       "          (adj_list): ModuleList(\n",
       "            (0): Linear(in_features=5, out_features=128, bias=True)\n",
       "            (1): Linear(in_features=5, out_features=128, bias=True)\n",
       "            (2): Linear(in_features=5, out_features=128, bias=True)\n",
       "            (3): Linear(in_features=5, out_features=128, bias=True)\n",
       "          )\n",
       "          (linear_2): Linear(in_features=5, out_features=128, bias=True)\n",
       "          (activation): Tanh()\n",
       "          (dropout): Dropout(p=0.0, inplace=False)\n",
       "        )\n",
       "        (1): GraphConvolutionLayer(\n",
       "          (adj_list): ModuleList(\n",
       "            (0): Linear(in_features=133, out_features=64, bias=True)\n",
       "            (1): Linear(in_features=133, out_features=64, bias=True)\n",
       "            (2): Linear(in_features=133, out_features=64, bias=True)\n",
       "            (3): Linear(in_features=133, out_features=64, bias=True)\n",
       "          )\n",
       "          (linear_2): Linear(in_features=133, out_features=64, bias=True)\n",
       "          (activation): Tanh()\n",
       "          (dropout): Dropout(p=0.0, inplace=False)\n",
       "        )\n",
       "      )\n",
       "    )\n",
       "  )\n",
       "  (agg_layer): GraphAggregation(\n",
       "    (activation): Tanh()\n",
       "    (i): Sequential(\n",
       "      (0): Linear(in_features=69, out_features=128, bias=True)\n",
       "      (1): Sigmoid()\n",
       "    )\n",
       "    (j): Sequential(\n",
       "      (0): Linear(in_features=69, out_features=128, bias=True)\n",
       "      (1): Tanh()\n",
       "    )\n",
       "    (dropout): Dropout(p=0.0, inplace=False)\n",
       "  )\n",
       "  (multi_dense_layer): MultiDenseLayer(\n",
       "    (linear_layer): Sequential(\n",
       "      (0): Linear(in_features=128, out_features=128, bias=True)\n",
       "      (1): Dropout(p=0.0, inplace=False)\n",
       "      (2): Tanh()\n",
       "      (3): Linear(in_features=128, out_features=64, bias=True)\n",
       "      (4): Dropout(p=0.0, inplace=False)\n",
       "      (5): Tanh()\n",
       "    )\n",
       "  )\n",
       "  (output_layer): Linear(in_features=64, out_features=1, bias=True)\n",
       ")"
      ]
     },
     "execution_count": 17,
     "metadata": {},
     "output_type": "execute_result"
    }
   ],
   "source": [
    "g_optimizer = torch.optim.RMSprop(G.parameters(), g_lr)\n",
    "d_optimizer = torch.optim.RMSprop(D.parameters(), d_lr)\n",
    "v_optimizer = torch.optim.RMSprop(V.parameters(), g_lr)\n",
    "print_network(G, 'G', logging)\n",
    "print_network(D, 'D', logging)\n",
    "print_network(V, 'V', logging)\n",
    "\n",
    "G.to(device)\n",
    "D.to(device)\n",
    "V.to(device)"
   ]
  },
  {
   "cell_type": "markdown",
   "metadata": {},
   "source": [
    "### Train\n"
   ]
  },
  {
   "cell_type": "markdown",
   "metadata": {},
   "source": [
    "### Train single step"
   ]
  },
  {
   "cell_type": "code",
   "execution_count": 18,
   "metadata": {},
   "outputs": [],
   "source": [
    "cur_la = la\n",
    "epoch_i = 0\n",
    "a_step = 0"
   ]
  },
  {
   "cell_type": "code",
   "execution_count": 19,
   "metadata": {},
   "outputs": [],
   "source": [
    "from collections import defaultdict\n",
    "losses = defaultdict(list)\n",
    "scores = defaultdict(list)\n",
    "the_step = 1"
   ]
  },
  {
   "cell_type": "code",
   "execution_count": 20,
   "metadata": {},
   "outputs": [],
   "source": [
    "# data, smiles, data_S, data_A, data_X, data_D, data_F, data_Le, data_Lv\n",
    "# a: Adjacent matrix,\n",
    "# x: node \n",
    "mols, _, _, a, x, _, _, _, _ = data.next_train_batch(batch_size) # generator"
   ]
  },
  {
   "cell_type": "markdown",
   "metadata": {},
   "source": [
    "#### Investigate single data"
   ]
  },
  {
   "cell_type": "markdown",
   "metadata": {},
   "source": [
    "##### molecular graph"
   ]
  },
  {
   "cell_type": "code",
   "execution_count": 25,
   "metadata": {},
   "outputs": [
    {
     "data": {
      "image/png": "[encoded data removed]",
      "text/plain": [
       "<rdkit.Chem.rdchem.Mol at 0x7f07bf8b8450>"
      ]
     },
     "execution_count": 25,
     "metadata": {},
     "output_type": "execute_result"
    }
   ],
   "source": [
    "mols[1]"
   ]
  },
  {
   "cell_type": "markdown",
   "metadata": {},
   "source": [
    "##### molecular graph with detail"
   ]
  },
  {
   "cell_type": "code",
   "execution_count": 26,
   "metadata": {},
   "outputs": [
    {
     "data": {
      "image/png": "[encoded data removed]",
      "text/plain": [
       "<rdkit.Chem.rdchem.Mol at 0x7f07bf8b8450>"
      ]
     },
     "execution_count": 26,
     "metadata": {},
     "output_type": "execute_result"
    }
   ],
   "source": [
    "for i, atom in enumerate(mols[1].GetAtoms()):\n",
    "    atom.SetProp('molAtomMapNumber', str(atom.GetIdx()))\n",
    "mols[1]"
   ]
  },
  {
   "cell_type": "markdown",
   "metadata": {},
   "source": [
    "##### how to make adjacent matrix"
   ]
  },
  {
   "cell_type": "code",
   "execution_count": 27,
   "metadata": {},
   "outputs": [],
   "source": [
    "max_length = None\n",
    "max_length = max_length if max_length is not None else mols[1].GetNumAtoms()"
   ]
  },
  {
   "cell_type": "code",
   "execution_count": 28,
   "metadata": {},
   "outputs": [
    {
     "data": {
      "text/plain": [
       "[0, 1, 2, 3, 4, 5, 6, 7, 6, 8]"
      ]
     },
     "execution_count": 28,
     "metadata": {},
     "output_type": "execute_result"
    }
   ],
   "source": [
    "[b.GetBeginAtomIdx() for b in mols[1].GetBonds()]"
   ]
  },
  {
   "cell_type": "code",
   "execution_count": 29,
   "metadata": {},
   "outputs": [
    {
     "data": {
      "text/plain": [
       "[1, 2, 3, 4, 5, 6, 7, 8, 1, 6]"
      ]
     },
     "execution_count": 29,
     "metadata": {},
     "output_type": "execute_result"
    }
   ],
   "source": [
    "[b.GetEndAtomIdx() for b in mols[1].GetBonds()]"
   ]
  },
  {
   "cell_type": "code",
   "execution_count": 30,
   "metadata": {},
   "outputs": [],
   "source": [
    "# get directed graph\n",
    "begin, end = [b.GetBeginAtomIdx() for b in mols[1].GetBonds()], [b.GetEndAtomIdx() for b in mols[1].GetBonds()]"
   ]
  },
  {
   "cell_type": "code",
   "execution_count": 34,
   "metadata": {},
   "outputs": [],
   "source": [
    "A = np.zeros(shape=(max_length, max_length), dtype=np.int32)"
   ]
  },
  {
   "cell_type": "markdown",
   "metadata": {},
   "source": [
    "##### Get Bond Type\n",
    "* 모든 bond type을 다가져와야 하나 여기서는 32개의 sample에 대한 bond type만 가지고 와서 bond_encoder_m이라는 index set을 만들고\n",
    "* 실제 bond type을 저장"
   ]
  },
  {
   "cell_type": "code",
   "execution_count": 31,
   "metadata": {},
   "outputs": [],
   "source": [
    "from rdkit import Chem\n",
    "bond_labels = [Chem.rdchem.BondType.ZERO] + list(sorted(set(bond.GetBondType()\n",
    "                                                            for mol in mols\n",
    "                                                            for bond in mol.GetBonds())))\n",
    "bond_encoder_m = {l: i for i, l in enumerate(bond_labels)}\n",
    "bond_type = [bond_encoder_m[b.GetBondType()] for b in mols[1].GetBonds()]"
   ]
  },
  {
   "cell_type": "code",
   "execution_count": 32,
   "metadata": {},
   "outputs": [
    {
     "data": {
      "text/plain": [
       "[1, 1, 1, 1, 2, 1, 1, 1, 1, 1]"
      ]
     },
     "execution_count": 32,
     "metadata": {},
     "output_type": "execute_result"
    }
   ],
   "source": [
    "bond_type"
   ]
  },
  {
   "cell_type": "code",
   "execution_count": 36,
   "metadata": {},
   "outputs": [],
   "source": [
    "# Make adjacent matrix\n",
    "# Position: connection, Value: bond type\n",
    "A[begin, end] = bond_type\n",
    "A[end, begin] = bond_type"
   ]
  },
  {
   "cell_type": "code",
   "execution_count": 38,
   "metadata": {},
   "outputs": [
    {
     "data": {
      "text/plain": [
       "array([[0, 1, 0, 0, 0, 0, 0, 0, 0],\n",
       "       [1, 0, 1, 0, 0, 0, 1, 0, 0],\n",
       "       [0, 1, 0, 1, 0, 0, 0, 0, 0],\n",
       "       [0, 0, 1, 0, 1, 0, 0, 0, 0],\n",
       "       [0, 0, 0, 1, 0, 2, 0, 0, 0],\n",
       "       [0, 0, 0, 0, 2, 0, 1, 0, 0],\n",
       "       [0, 1, 0, 0, 0, 1, 0, 1, 1],\n",
       "       [0, 0, 0, 0, 0, 0, 1, 0, 1],\n",
       "       [0, 0, 0, 0, 0, 0, 1, 1, 0]], dtype=int32)"
      ]
     },
     "execution_count": 38,
     "metadata": {},
     "output_type": "execute_result"
    }
   ],
   "source": [
    "A"
   ]
  },
  {
   "cell_type": "code",
   "execution_count": 37,
   "metadata": {},
   "outputs": [],
   "source": [
    "degree = np.sum(A[:mols[1].GetNumAtoms(), :mols[1].GetNumAtoms()], axis=-1)"
   ]
  },
  {
   "cell_type": "markdown",
   "metadata": {},
   "source": [
    "##### How to make node tensor "
   ]
  },
  {
   "cell_type": "code",
   "execution_count": 40,
   "metadata": {},
   "outputs": [],
   "source": [
    "atom_labels = sorted(set([atom.GetAtomicNum() for mol in mols for atom in mol.GetAtoms()] + [0]))\n",
    "atom_encoder_m = {l: i for i, l in enumerate(atom_labels)}"
   ]
  },
  {
   "cell_type": "code",
   "execution_count": 41,
   "metadata": {},
   "outputs": [
    {
     "data": {
      "text/plain": [
       "{0: 0, 6: 1, 7: 2, 8: 3, 9: 4}"
      ]
     },
     "execution_count": 41,
     "metadata": {},
     "output_type": "execute_result"
    }
   ],
   "source": [
    "atom_encoder_m"
   ]
  },
  {
   "cell_type": "markdown",
   "metadata": {},
   "source": [
    "#### Preprocess"
   ]
  },
  {
   "cell_type": "code",
   "execution_count": 42,
   "metadata": {},
   "outputs": [],
   "source": [
    "node = np.array([\n",
    "        atom_encoder_m[atom.GetAtomicNum()] \n",
    "        for atom in mols[1].GetAtoms()\n",
    "        ] + [0] * ( max_length - mols[1].GetNumAtoms() ), dtype=np.int32)"
   ]
  },
  {
   "cell_type": "code",
   "execution_count": 43,
   "metadata": {},
   "outputs": [
    {
     "data": {
      "text/plain": [
       "array([3, 1, 1, 1, 1, 1, 1, 1, 2], dtype=int32)"
      ]
     },
     "execution_count": 43,
     "metadata": {},
     "output_type": "execute_result"
    }
   ],
   "source": [
    "node"
   ]
  },
  {
   "cell_type": "code",
   "execution_count": 45,
   "metadata": {},
   "outputs": [],
   "source": [
    "def label2onehot(labels, dim):\n",
    "    \"\"\"Convert label indices to one-hot vectors.\"\"\"\n",
    "    out = torch.zeros(list(labels.size()) + [dim]).to(device)\n",
    "    out.scatter_(len(out.size()) - 1, labels.unsqueeze(-1), 1.)\n",
    "    return out\n",
    "\n",
    "def sample_z(batch_size):\n",
    "    return np.random.normal(0, 1, size=(batch_size, z_dim))"
   ]
  },
  {
   "cell_type": "code",
   "execution_count": 46,
   "metadata": {},
   "outputs": [],
   "source": [
    "z = sample_z(a.shape[0])"
   ]
  },
  {
   "cell_type": "code",
   "execution_count": 47,
   "metadata": {},
   "outputs": [],
   "source": [
    "# 이미 GPU에 올라가 있으면 아래 코드 중 첫 두줄은 필요 없음\n",
    "a = torch.from_numpy(a).to(device).long()  # Adjacency.\n",
    "x = torch.from_numpy(x).to(device).long()  # Nodes.\n",
    "a_tensor = label2onehot(a, b_dim)\n",
    "x_tensor = label2onehot(x, m_dim)\n",
    "z = torch.from_numpy(z).to(device).float()"
   ]
  },
  {
   "cell_type": "code",
   "execution_count": 48,
   "metadata": {},
   "outputs": [],
   "source": [
    "cur_step = num_steps * epoch_i + a_step"
   ]
  },
  {
   "cell_type": "markdown",
   "metadata": {},
   "source": [
    "#### Train discriminator"
   ]
  },
  {
   "cell_type": "code",
   "execution_count": 49,
   "metadata": {},
   "outputs": [],
   "source": [
    "# a_tensor: Adjacent matrix\n",
    "# x_tensor: node\n",
    "logits_real, features_real = D(a_tensor, None, x_tensor)"
   ]
  },
  {
   "cell_type": "code",
   "execution_count": 50,
   "metadata": {},
   "outputs": [],
   "source": [
    "edges_logits, nodes_logits = G(z)"
   ]
  },
  {
   "cell_type": "code",
   "execution_count": 51,
   "metadata": {},
   "outputs": [
    {
     "data": {
      "text/plain": [
       "tensor([[ 0.0774,  0.0450, -0.0865, -0.3240,  0.0169],\n",
       "        [-0.0176,  0.0249, -0.1331,  0.0436,  0.0210],\n",
       "        [-0.0113, -0.0975, -0.0461, -0.0442,  0.1225],\n",
       "        [ 0.0660, -0.2631,  0.1256, -0.0183, -0.1172],\n",
       "        [ 0.1073,  0.0654, -0.0848,  0.0100,  0.0300],\n",
       "        [ 0.0533,  0.1114, -0.0621,  0.0798,  0.0966],\n",
       "        [-0.1837, -0.0432, -0.0291,  0.0112, -0.3214],\n",
       "        [ 0.1604,  0.0431, -0.0435,  0.0617,  0.0324],\n",
       "        [ 0.1529, -0.0191,  0.0448, -0.0465,  0.0156]], device='cuda:0',\n",
       "       grad_fn=<SelectBackward0>)"
      ]
     },
     "execution_count": 51,
     "metadata": {},
     "output_type": "execute_result"
    }
   ],
   "source": [
    "nodes_logits[0]"
   ]
  },
  {
   "cell_type": "code",
   "execution_count": 52,
   "metadata": {},
   "outputs": [],
   "source": [
    "def postprocess(inputs, method, temperature=1.):\n",
    "    def listify(x):\n",
    "        return x if type(x) == list or type(x) == tuple else [x]\n",
    "\n",
    "    def delistify(x):\n",
    "        return x if len(x) > 1 else x[0]\n",
    "\n",
    "    if method == 'soft_gumbel':\n",
    "        softmax = [F.gumbel_softmax(e_logits.contiguous().view(-1, e_logits.size(-1))\n",
    "                                    / temperature, hard=False).view(e_logits.size())\n",
    "                   for e_logits in listify(inputs)]\n",
    "    elif method == 'hard_gumbel':\n",
    "        softmax = [F.gumbel_softmax(e_logits.contiguous().view(-1, e_logits.size(-1))\n",
    "                                    / temperature, hard=True).view(e_logits.size())\n",
    "                   for e_logits in listify(inputs)]\n",
    "    else:\n",
    "        softmax = [F.softmax(e_logits / temperature, -1)\n",
    "                   for e_logits in listify(inputs)]\n",
    "\n",
    "    return [delistify(e) for e in (softmax)]"
   ]
  },
  {
   "cell_type": "code",
   "execution_count": 53,
   "metadata": {},
   "outputs": [
    {
     "data": {
      "text/plain": [
       "'softmax'"
      ]
     },
     "execution_count": 53,
     "metadata": {},
     "output_type": "execute_result"
    }
   ],
   "source": [
    "post_method"
   ]
  },
  {
   "cell_type": "code",
   "execution_count": 54,
   "metadata": {},
   "outputs": [],
   "source": [
    "(edges_hat, nodes_hat) = postprocess((edges_logits, nodes_logits), post_method)"
   ]
  },
  {
   "cell_type": "code",
   "execution_count": 55,
   "metadata": {},
   "outputs": [
    {
     "data": {
      "text/plain": [
       "torch.Size([32, 9, 9, 5])"
      ]
     },
     "execution_count": 55,
     "metadata": {},
     "output_type": "execute_result"
    }
   ],
   "source": [
    "edges_hat.shape"
   ]
  },
  {
   "cell_type": "code",
   "execution_count": 61,
   "metadata": {},
   "outputs": [
    {
     "data": {
      "text/plain": [
       "tensor([[0.1680, 0.2149, 0.1913, 0.2136, 0.2081, 0.2233, 0.1932, 0.1735, 0.1838],\n",
       "        [0.2149, 0.1891, 0.2028, 0.1787, 0.1946, 0.1935, 0.1935, 0.1940, 0.2035],\n",
       "        [0.1913, 0.2028, 0.2032, 0.1863, 0.1934, 0.2073, 0.1986, 0.2070, 0.1946],\n",
       "        [0.2136, 0.1787, 0.1863, 0.2422, 0.2080, 0.1741, 0.2169, 0.2017, 0.2053],\n",
       "        [0.2081, 0.1946, 0.1934, 0.2080, 0.2183, 0.1915, 0.2189, 0.1927, 0.1963],\n",
       "        [0.2233, 0.1935, 0.2073, 0.1741, 0.1915, 0.1698, 0.1916, 0.1948, 0.1881],\n",
       "        [0.1932, 0.1935, 0.1986, 0.2169, 0.2189, 0.1916, 0.2145, 0.1821, 0.1999],\n",
       "        [0.1735, 0.1940, 0.2070, 0.2017, 0.1927, 0.1948, 0.1821, 0.1894, 0.2023],\n",
       "        [0.1838, 0.2035, 0.1946, 0.2053, 0.1963, 0.1881, 0.1999, 0.2023, 0.2144]],\n",
       "       device='cuda:0', grad_fn=<SelectBackward0>)"
      ]
     },
     "execution_count": 61,
     "metadata": {},
     "output_type": "execute_result"
    }
   ],
   "source": [
    "edges_hat[1, :, :, 4]"
   ]
  },
  {
   "cell_type": "code",
   "execution_count": 62,
   "metadata": {},
   "outputs": [],
   "source": [
    "logits_fake, features_fake = D(edges_hat, None, nodes_hat)"
   ]
  },
  {
   "cell_type": "code",
   "execution_count": 63,
   "metadata": {},
   "outputs": [
    {
     "data": {
      "text/plain": [
       "torch.Size([32, 64])"
      ]
     },
     "execution_count": 63,
     "metadata": {},
     "output_type": "execute_result"
    }
   ],
   "source": [
    "features_fake.shape"
   ]
  },
  {
   "cell_type": "code",
   "execution_count": 64,
   "metadata": {},
   "outputs": [],
   "source": [
    "def gradient_penalty(y, x):\n",
    "    \"\"\"Compute gradient penalty: (L2_norm(dy/dx) - 1)**2.\"\"\"\n",
    "    weight = torch.ones(y.size()).to(device)\n",
    "    dydx = torch.autograd.grad(outputs=y,\n",
    "                               inputs=x,\n",
    "                               grad_outputs=weight,\n",
    "                               retain_graph=True,\n",
    "                               create_graph=True,\n",
    "                               only_inputs=True)[0]\n",
    "    dydx = dydx.view(dydx.size(0), -1)\n",
    "    dydx_l2norm = torch.sqrt(torch.sum(dydx ** 2, dim=1))\n",
    "    return torch.mean((dydx_l2norm - 1) ** 2)"
   ]
  },
  {
   "cell_type": "code",
   "execution_count": 65,
   "metadata": {},
   "outputs": [],
   "source": [
    "# Compute losses for gradient penalty.\n",
    "eps = torch.rand(logits_real.size(0), 1, 1, 1).to(device)\n",
    "x_int0 = (eps * a_tensor + (1. - eps) * edges_hat).requires_grad_(True)\n",
    "x_int1 = (eps.squeeze(-1) * x_tensor + (1. - eps.squeeze(-1)) * nodes_hat).requires_grad_(True)\n",
    "grad0, grad1 = D(x_int0, None, x_int1)\n",
    "grad_penalty = gradient_penalty(grad0, x_int0) + gradient_penalty(grad1, x_int1)"
   ]
  },
  {
   "cell_type": "code",
   "execution_count": 66,
   "metadata": {},
   "outputs": [],
   "source": [
    "d_loss_real = torch.mean(logits_real)\n",
    "d_loss_fake = torch.mean(logits_fake)\n",
    "loss_D = - d_loss_real + d_loss_fake + la_gp * grad_penalty"
   ]
  },
  {
   "cell_type": "code",
   "execution_count": 67,
   "metadata": {},
   "outputs": [],
   "source": [
    "losses['l_D/R'].append(d_loss_real.item())\n",
    "losses['l_D/F'].append(d_loss_fake.item())\n",
    "losses['l_D'].append(loss_D.item())"
   ]
  },
  {
   "cell_type": "code",
   "execution_count": 69,
   "metadata": {},
   "outputs": [
    {
     "data": {
      "text/plain": [
       "defaultdict(list,\n",
       "            {'l_D/R': [0.30454879999160767],\n",
       "             'l_D/F': [0.0014736459124833345],\n",
       "             'l_D': [7.486253261566162]})"
      ]
     },
     "execution_count": 69,
     "metadata": {},
     "output_type": "execute_result"
    }
   ],
   "source": [
    "losses"
   ]
  },
  {
   "cell_type": "code",
   "execution_count": 70,
   "metadata": {},
   "outputs": [],
   "source": [
    "def reset_grad():\n",
    "    \"\"\"Reset the gradient buffers.\"\"\"\n",
    "    g_optimizer.zero_grad()\n",
    "    d_optimizer.zero_grad()\n",
    "    v_optimizer.zero_grad()"
   ]
  },
  {
   "cell_type": "code",
   "execution_count": 71,
   "metadata": {},
   "outputs": [],
   "source": [
    "reset_grad()\n",
    "loss_D.backward()"
   ]
  },
  {
   "cell_type": "code",
   "execution_count": 72,
   "metadata": {},
   "outputs": [],
   "source": [
    "d_optimizer.step()"
   ]
  },
  {
   "cell_type": "code",
   "execution_count": 51,
   "metadata": {},
   "outputs": [],
   "source": [
    "# d_optimizer.state_dict()['state'][0]['square_avg']"
   ]
  },
  {
   "cell_type": "markdown",
   "metadata": {},
   "source": [
    "#### Train Generator"
   ]
  },
  {
   "cell_type": "code",
   "execution_count": 52,
   "metadata": {},
   "outputs": [
    {
     "data": {
      "text/plain": [
       "'validity,qed'"
      ]
     },
     "execution_count": 52,
     "metadata": {},
     "output_type": "execute_result"
    }
   ],
   "source": [
    "metric"
   ]
  },
  {
   "cell_type": "code",
   "execution_count": 53,
   "metadata": {},
   "outputs": [],
   "source": [
    "def reward(mols):\n",
    "    rr = 1.\n",
    "    for m in ('logp,sas,qed,unique' if metric == 'all' else metric).split(','):\n",
    "        if m == 'np':\n",
    "            rr *= MolecularMetrics.natural_product_scores(mols, norm=True)\n",
    "        elif m == 'logp':\n",
    "            rr *= MolecularMetrics.water_octanol_partition_coefficient_scores(mols, norm=True)\n",
    "        elif m == 'sas':\n",
    "            rr *= MolecularMetrics.synthetic_accessibility_score_scores(mols, norm=True)\n",
    "        elif m == 'qed':\n",
    "            rr *= MolecularMetrics.quantitative_estimation_druglikeness_scores(mols, norm=True)\n",
    "        elif m == 'novelty':\n",
    "            rr *= MolecularMetrics.novel_scores(mols, data)\n",
    "        elif m == 'dc':\n",
    "            rr *= MolecularMetrics.drugcandidate_scores(mols, data)\n",
    "        elif m == 'unique':\n",
    "            rr *= MolecularMetrics.unique_scores(mols)\n",
    "        elif m == 'diversity':\n",
    "            rr *= MolecularMetrics.diversity_scores(mols, data)\n",
    "        elif m == 'validity':\n",
    "            rr *= MolecularMetrics.valid_scores(mols)\n",
    "        else:\n",
    "            raise RuntimeError('{} is not defined as a metric'.format(m))\n",
    "    return rr.reshape(-1, 1)"
   ]
  },
  {
   "cell_type": "code",
   "execution_count": 54,
   "metadata": {},
   "outputs": [],
   "source": [
    "def get_reward(n_hat, e_hat, method):\n",
    "    (edges_hard, nodes_hard) = postprocess((e_hat, n_hat), method)\n",
    "    edges_hard, nodes_hard = torch.max(edges_hard, -1)[1], torch.max(nodes_hard, -1)[1]\n",
    "    mols = [data.matrices2mol(n_.data.cpu().numpy(), e_.data.cpu().numpy(), strict=True)\n",
    "            for e_, n_ in zip(edges_hard, nodes_hard)]\n",
    "    _reward = torch.from_numpy(reward(mols)).to(device)\n",
    "    return _reward"
   ]
  },
  {
   "cell_type": "code",
   "execution_count": 55,
   "metadata": {},
   "outputs": [],
   "source": [
    "# Z-to-target\n",
    "edges_logits, nodes_logits = G(z)\n",
    "# Postprocess with Gumbel softmax\n",
    "(edges_hat, nodes_hat) = postprocess((edges_logits, nodes_logits), post_method)\n",
    "logits_fake, features_fake = D(edges_hat, None, nodes_hat)"
   ]
  },
  {
   "cell_type": "code",
   "execution_count": 56,
   "metadata": {},
   "outputs": [],
   "source": [
    "# Value losses\n",
    "value_logit_real, _ = V(a_tensor, None, x_tensor, torch.sigmoid)\n",
    "value_logit_fake, _ = V(edges_hat, None, nodes_hat, torch.sigmoid)"
   ]
  },
  {
   "cell_type": "code",
   "execution_count": 57,
   "metadata": {},
   "outputs": [],
   "source": [
    "from utils import MolecularMetrics"
   ]
  },
  {
   "cell_type": "code",
   "execution_count": 58,
   "metadata": {},
   "outputs": [],
   "source": [
    "# Feature mapping losses. Not used anywhere in the PyTorch version.\n",
    "# I include it here for the consistency with the TF code.\n",
    "f_loss = (torch.mean(features_real, 0) - torch.mean(features_fake, 0)) ** 2\n",
    "\n",
    "# Real Reward\n",
    "reward_r = torch.from_numpy(reward(mols)).to(device)\n",
    "# Fake Reward\n",
    "reward_f = get_reward(nodes_hat, edges_hat, post_method)\n"
   ]
  },
  {
   "cell_type": "code",
   "execution_count": 59,
   "metadata": {},
   "outputs": [],
   "source": [
    "# Losses Update\n",
    "loss_G = -logits_fake\n",
    "# Original TF loss_V. Here we use absolute values instead of the squared one.\n",
    "# loss_V = (value_logit_real - reward_r) ** 2 + (value_logit_fake - reward_f) ** 2\n",
    "loss_V = torch.abs(value_logit_real - reward_r) + torch.abs(value_logit_fake - reward_f)\n",
    "loss_RL = -value_logit_fake"
   ]
  },
  {
   "cell_type": "code",
   "execution_count": 60,
   "metadata": {},
   "outputs": [
    {
     "data": {
      "text/plain": [
       "torch.Size([32, 1])"
      ]
     },
     "execution_count": 60,
     "metadata": {},
     "output_type": "execute_result"
    }
   ],
   "source": [
    "loss_RL.shape"
   ]
  },
  {
   "cell_type": "code",
   "execution_count": 61,
   "metadata": {},
   "outputs": [],
   "source": [
    "\n",
    "loss_G = torch.mean(loss_G)\n",
    "loss_V = torch.mean(loss_V)\n",
    "loss_RL = torch.mean(loss_RL)\n",
    "losses['l_G'].append(loss_G.item())\n",
    "losses['l_RL'].append(loss_RL.item())\n",
    "losses['l_V'].append(loss_V.item())\n",
    "alpha = torch.abs(loss_G.detach() / loss_RL.detach()).detach()\n",
    "train_step_G = cur_la * loss_G + (1 - cur_la) * alpha * loss_RL"
   ]
  },
  {
   "cell_type": "code",
   "execution_count": 62,
   "metadata": {},
   "outputs": [
    {
     "name": "stderr",
     "output_type": "stream",
     "text": [
      "/home/kyle/.pyenv/versions/3.9.2/envs/molgan/lib/python3.9/site-packages/torch/autograd/__init__.py:197: UserWarning: Error detected in AddmmBackward0. No forward pass information available. Enable detect anomaly during forward pass for more information. (Triggered internally at ../torch/csrc/autograd/python_anomaly_mode.cpp:92.)\n",
      "  Variable._execution_engine.run_backward(  # Calls into the C++ engine to run the backward pass\n"
     ]
    },
    {
     "ename": "RuntimeError",
     "evalue": "one of the variables needed for gradient computation has been modified by an inplace operation: [torch.cuda.FloatTensor [512, 45]], which is output 0 of AsStridedBackward0, is at version 2; expected version 1 instead. Hint: the backtrace further above shows the operation that failed to compute its gradient. The variable in question was changed in there or anywhere later. Good luck!",
     "output_type": "error",
     "traceback": [
      "\u001b[0;31m---------------------------------------------------------------------------\u001b[0m",
      "\u001b[0;31mRuntimeError\u001b[0m                              Traceback (most recent call last)",
      "Cell \u001b[0;32mIn[62], line 13\u001b[0m\n\u001b[1;32m     11\u001b[0m \u001b[39m# Optimise value network.\u001b[39;00m\n\u001b[1;32m     12\u001b[0m \u001b[39mif\u001b[39;00m cur_step \u001b[39m%\u001b[39m n_critic \u001b[39m==\u001b[39m \u001b[39m0\u001b[39m:\n\u001b[0;32m---> 13\u001b[0m     train_step_V\u001b[39m.\u001b[39;49mbackward(retain_graph\u001b[39m=\u001b[39;49m\u001b[39mTrue\u001b[39;49;00m) \u001b[39m## 여기에서 에러가 난다.\u001b[39;00m\n\u001b[1;32m     14\u001b[0m     v_optimizer\u001b[39m.\u001b[39mstep()\n",
      "File \u001b[0;32m~/.pyenv/versions/3.9.2/envs/molgan/lib/python3.9/site-packages/torch/_tensor.py:488\u001b[0m, in \u001b[0;36mTensor.backward\u001b[0;34m(self, gradient, retain_graph, create_graph, inputs)\u001b[0m\n\u001b[1;32m    478\u001b[0m \u001b[39mif\u001b[39;00m has_torch_function_unary(\u001b[39mself\u001b[39m):\n\u001b[1;32m    479\u001b[0m     \u001b[39mreturn\u001b[39;00m handle_torch_function(\n\u001b[1;32m    480\u001b[0m         Tensor\u001b[39m.\u001b[39mbackward,\n\u001b[1;32m    481\u001b[0m         (\u001b[39mself\u001b[39m,),\n\u001b[0;32m   (...)\u001b[0m\n\u001b[1;32m    486\u001b[0m         inputs\u001b[39m=\u001b[39minputs,\n\u001b[1;32m    487\u001b[0m     )\n\u001b[0;32m--> 488\u001b[0m torch\u001b[39m.\u001b[39;49mautograd\u001b[39m.\u001b[39;49mbackward(\n\u001b[1;32m    489\u001b[0m     \u001b[39mself\u001b[39;49m, gradient, retain_graph, create_graph, inputs\u001b[39m=\u001b[39;49minputs\n\u001b[1;32m    490\u001b[0m )\n",
      "File \u001b[0;32m~/.pyenv/versions/3.9.2/envs/molgan/lib/python3.9/site-packages/torch/autograd/__init__.py:197\u001b[0m, in \u001b[0;36mbackward\u001b[0;34m(tensors, grad_tensors, retain_graph, create_graph, grad_variables, inputs)\u001b[0m\n\u001b[1;32m    192\u001b[0m     retain_graph \u001b[39m=\u001b[39m create_graph\n\u001b[1;32m    194\u001b[0m \u001b[39m# The reason we repeat same the comment below is that\u001b[39;00m\n\u001b[1;32m    195\u001b[0m \u001b[39m# some Python versions print out the first line of a multi-line function\u001b[39;00m\n\u001b[1;32m    196\u001b[0m \u001b[39m# calls in the traceback and some print out the last line\u001b[39;00m\n\u001b[0;32m--> 197\u001b[0m Variable\u001b[39m.\u001b[39;49m_execution_engine\u001b[39m.\u001b[39;49mrun_backward(  \u001b[39m# Calls into the C++ engine to run the backward pass\u001b[39;49;00m\n\u001b[1;32m    198\u001b[0m     tensors, grad_tensors_, retain_graph, create_graph, inputs,\n\u001b[1;32m    199\u001b[0m     allow_unreachable\u001b[39m=\u001b[39;49m\u001b[39mTrue\u001b[39;49;00m, accumulate_grad\u001b[39m=\u001b[39;49m\u001b[39mTrue\u001b[39;49;00m)\n",
      "\u001b[0;31mRuntimeError\u001b[0m: one of the variables needed for gradient computation has been modified by an inplace operation: [torch.cuda.FloatTensor [512, 45]], which is output 0 of AsStridedBackward0, is at version 2; expected version 1 instead. Hint: the backtrace further above shows the operation that failed to compute its gradient. The variable in question was changed in there or anywhere later. Good luck!"
     ]
    }
   ],
   "source": [
    "torch.autograd.set_detect_anomaly(True) \n",
    "\n",
    "alpha = torch.abs(loss_G.detach() / loss_RL.detach()).detach()\n",
    "train_step_G = cur_la * loss_G + (1 - cur_la) * alpha * loss_RL\n",
    "train_step_V = loss_V\n",
    "reset_grad()\n",
    "# Optimise generator.\n",
    "if cur_step % n_critic == 0:\n",
    "    train_step_G.backward(retain_graph=True)\n",
    "    g_optimizer.step()\n",
    "# Optimise value network.\n",
    "if cur_step % n_critic == 0:\n",
    "    train_step_V.backward() ## 여기에서 에러가 난다.\n",
    "    v_optimizer.step()"
   ]
  },
  {
   "cell_type": "code",
   "execution_count": null,
   "metadata": {},
   "outputs": [],
   "source": [
    "            # =================================================================================== #\n",
    "            #                               3. Train the generator                                #\n",
    "            # =================================================================================== #\n",
    "\n",
    "            # Z-to-target\n",
    "            edges_logits, nodes_logits = self.G(z)\n",
    "            # Postprocess with Gumbel softmax\n",
    "            (edges_hat, nodes_hat) = self.postprocess((edges_logits, nodes_logits), self.post_method)\n",
    "            logits_fake, features_fake = self.D(edges_hat, None, nodes_hat)\n",
    "\n",
    "            # Value losses\n",
    "            value_logit_real, _ = self.V(a_tensor, None, x_tensor, torch.sigmoid)\n",
    "            value_logit_fake, _ = self.V(edges_hat, None, nodes_hat, torch.sigmoid)\n",
    "\n",
    "            # Feature mapping losses. Not used anywhere in the PyTorch version.\n",
    "            # I include it here for the consistency with the TF code.\n",
    "            f_loss = (torch.mean(features_real, 0) - torch.mean(features_fake, 0)) ** 2\n",
    "\n",
    "            # Real Reward\n",
    "            reward_r = torch.from_numpy(self.reward(mols)).to(self.device)\n",
    "            # Fake Reward\n",
    "            reward_f = self.get_reward(nodes_hat, edges_hat, self.post_method)\n",
    "\n",
    "            # Losses Update\n",
    "            loss_G = -logits_fake\n",
    "            # Original TF loss_V. Here we use absolute values instead of the squared one.\n",
    "            # loss_V = (value_logit_real - reward_r) ** 2 + (value_logit_fake - reward_f) ** 2\n",
    "            loss_V = torch.abs(value_logit_real - reward_r) + torch.abs(value_logit_fake - reward_f)\n",
    "            loss_RL = -value_logit_fake\n",
    "\n",
    "            loss_G = torch.mean(loss_G)\n",
    "            loss_V = torch.mean(loss_V)\n",
    "            loss_RL = torch.mean(loss_RL)\n",
    "            losses['l_G'].append(loss_G.item())\n",
    "            losses['l_RL'].append(loss_RL.item())\n",
    "            losses['l_V'].append(loss_V.item())\n",
    "\n",
    "            alpha = torch.abs(loss_G.detach() / loss_RL.detach()).detach()\n",
    "            train_step_G = cur_la * loss_G + (1 - cur_la) * alpha * loss_RL\n",
    "\n",
    "            train_step_V = loss_V\n",
    "\n",
    "            if train_val_test == 'train':\n",
    "                self.reset_grad()\n",
    "\n",
    "                # Optimise generator.\n",
    "                if cur_step % self.n_critic == 0:\n",
    "                    train_step_G.backward(retain_graph=True)\n",
    "                    self.g_optimizer.step()\n",
    "\n",
    "                # Optimise value network.\n",
    "                if cur_step % self.n_critic == 0:\n",
    "                    train_step_V.backward()\n",
    "                    self.v_optimizer.step()"
   ]
  },
  {
   "cell_type": "code",
   "execution_count": null,
   "metadata": {},
   "outputs": [],
   "source": [
    "start_epoch = 0\n",
    "for i in range(start_epoch, num_epochs):\n",
    "    self.train_or_valid(epoch_i=i, train_val_test='train')\n",
    "    self.train_or_valid(epoch_i=i, train_val_test='val')"
   ]
  }
 ],
 "metadata": {
  "kernelspec": {
   "display_name": "MolGan",
   "language": "python",
   "name": "molgan"
  },
  "language_info": {
   "codemirror_mode": {
    "name": "ipython",
    "version": 3
   },
   "file_extension": ".py",
   "mimetype": "text/x-python",
   "name": "python",
   "nbconvert_exporter": "python",
   "pygments_lexer": "ipython3",
   "version": "3.9.2"
  },
  "vscode": {
   "interpreter": {
    "hash": "f2021aad42aed9ec2de6443e4c206b312b12517efbcc0ff7ef55ad01c65ceb8d"
   }
  }
 },
 "nbformat": 4,
 "nbformat_minor": 4
}
