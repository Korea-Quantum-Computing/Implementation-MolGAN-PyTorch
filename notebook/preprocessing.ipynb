{
 "cells": [
  {
   "cell_type": "code",
   "execution_count": 1,
   "metadata": {},
   "outputs": [],
   "source": [
    "# https://github.com/nicola-decao/MolGAN/blob/master/utils/sparse_molecular_dataset.py\n",
    "\n",
    "import pickle\n",
    "import numpy as np\n",
    "\n",
    "from rdkit import Chem\n",
    "from datetime import datetime"
   ]
  },
  {
   "cell_type": "code",
   "execution_count": null,
   "metadata": {},
   "outputs": [],
   "source": []
  },
  {
   "cell_type": "code",
   "execution_count": 2,
   "metadata": {},
   "outputs": [],
   "source": [
    "class SparseMolecularDataset():\n",
    "\n",
    "    def load(self, filename, subset=1):\n",
    "\n",
    "        with open(filename, 'rb') as f:\n",
    "            __dict__.update(pickle.load(f))\n",
    "\n",
    "        train_idx = np.random.choice(self.train_idx, int(len(self.train_idx) * subset), replace=False)\n",
    "        self.validation_idx = np.random.choice(self.validation_idx, int(len(self.validation_idx) * subset),\n",
    "                                               replace=False)\n",
    "        self.test_idx = np.random.choice(self.test_idx, int(len(self.test_idx) * subset), replace=False)\n",
    "\n",
    "        self.train_count = len(self.train_idx)\n",
    "        self.validation_count = len(self.validation_idx)\n",
    "        self.test_count = len(self.test_idx)\n",
    "\n",
    "        self.__len = self.train_count + self.validation_count + self.test_count\n",
    "\n",
    "    def save(self, filename):\n",
    "        with open(filename, 'wb') as f:\n",
    "            pickle.dump(self.__dict__, f)\n",
    "\n",
    "    def generate(self, filename, add_h=False, filters=lambda x: True, size=None, validation=0.1, test=0.1):\n",
    "        self.log('Extracting {}..'.format(filename))\n",
    "\n",
    "        if filename.endswith('.sdf'):\n",
    "            self.data = list(filter(lambda x: x is not None, Chem.SDMolSupplier(filename)))\n",
    "        elif filename.endswith('.smi'):\n",
    "            self.data = [Chem.MolFromSmiles(line) for line in open(filename, 'r').readlines()]\n",
    "\n",
    "        self.data = list(map(Chem.AddHs, self.data)) if add_h else self.data\n",
    "        self.data = list(filter(filters, self.data))\n",
    "        self.data = self.data[:size]\n",
    "\n",
    "        self.log('Extracted {} out of {} molecules {}adding Hydrogen!'.format(len(self.data),\n",
    "                                                                              len(Chem.SDMolSupplier(filename)),\n",
    "                                                                              '' if add_h else 'not '))\n",
    "\n",
    "        self._generate_encoders_decoders()\n",
    "        self._generate_AX()\n",
    "\n",
    "        self.data = np.array(self.data)\n",
    "        self.smiles = np.array(self.smiles)\n",
    "        self.data_S = np.stack(self.data_S)\n",
    "        self.data_A = np.stack(self.data_A)\n",
    "        self.data_X = np.stack(self.data_X)\n",
    "        self.data_D = np.stack(self.data_D)\n",
    "        self.data_F = np.stack(self.data_F)\n",
    "        self.data_Le = np.stack(self.data_Le)\n",
    "        self.data_Lv = np.stack(self.data_Lv)\n",
    "\n",
    "        self.vertexes = self.data_F.shape[-2]\n",
    "        self.features = self.data_F.shape[-1]\n",
    "\n",
    "        self._generate_train_validation_test(validation, test)\n",
    "\n",
    "    def _generate_encoders_decoders(self):\n",
    "        self.log('Creating atoms encoder and decoder..')\n",
    "        atom_labels = sorted(set([atom.GetAtomicNum() for mol in self.data for atom in mol.GetAtoms()] + [0]))\n",
    "        self.atom_encoder_m = {l: i for i, l in enumerate(atom_labels)}\n",
    "        self.atom_decoder_m = {i: l for i, l in enumerate(atom_labels)}\n",
    "        self.atom_num_types = len(atom_labels)\n",
    "        self.log('Created atoms encoder and decoder with {} atom types and 1 PAD symbol!'.format(\n",
    "            self.atom_num_types - 1))\n",
    "\n",
    "        self.log('Creating bonds encoder and decoder..')\n",
    "        bond_labels = [Chem.rdchem.BondType.ZERO] + list(sorted(set(bond.GetBondType()\n",
    "                                                                    for mol in self.data\n",
    "                                                                    for bond in mol.GetBonds())))\n",
    "\n",
    "        self.bond_encoder_m = {l: i for i, l in enumerate(bond_labels)}\n",
    "        self.bond_decoder_m = {i: l for i, l in enumerate(bond_labels)}\n",
    "        self.bond_num_types = len(bond_labels)\n",
    "        self.log('Created bonds encoder and decoder with {} bond types and 1 PAD symbol!'.format(\n",
    "            self.bond_num_types - 1))\n",
    "\n",
    "        self.log('Creating SMILES encoder and decoder..')\n",
    "        smiles_labels = ['E'] + list(set(c for mol in self.data for c in Chem.MolToSmiles(mol)))\n",
    "        self.smiles_encoder_m = {l: i for i, l in enumerate(smiles_labels)}\n",
    "        self.smiles_decoder_m = {i: l for i, l in enumerate(smiles_labels)}\n",
    "        self.smiles_num_types = len(smiles_labels)\n",
    "        self.log('Created SMILES encoder and decoder with {} types and 1 PAD symbol!'.format(\n",
    "            self.smiles_num_types - 1))\n",
    "\n",
    "    def _generate_AX(self):\n",
    "        self.log('Creating features and adjacency matrices..')\n",
    "\n",
    "        data = []\n",
    "        smiles = []\n",
    "        data_S = []\n",
    "        data_A = []\n",
    "        data_X = []\n",
    "        data_D = []\n",
    "        data_F = []\n",
    "        data_Le = []\n",
    "        data_Lv = []\n",
    "\n",
    "        max_length = max(mol.GetNumAtoms() for mol in self.data)\n",
    "        max_length_s = max(len(Chem.MolToSmiles(mol)) for mol in self.data)\n",
    "\n",
    "        for i, mol in enumerate(self.data):\n",
    "            A = self._genA(mol, connected=True, max_length=max_length)\n",
    "            D = np.count_nonzero(A, -1)\n",
    "            if A is not None:\n",
    "                data.append(mol)\n",
    "                smiles.append(Chem.MolToSmiles(mol))\n",
    "                data_S.append(self._genS(mol, max_length=max_length_s))\n",
    "                data_A.append(A)\n",
    "                data_X.append(self._genX(mol, max_length=max_length))\n",
    "                data_D.append(D)\n",
    "                data_F.append(self._genF(mol, max_length=max_length))\n",
    "\n",
    "                L = D - A\n",
    "                Le, Lv = np.linalg.eigh(L)\n",
    "\n",
    "                data_Le.append(Le)\n",
    "                data_Lv.append(Lv)\n",
    "\n",
    "        self.log(date=False)\n",
    "        self.log('Created {} features and adjacency matrices  out of {} molecules!'.format(len(data),\n",
    "                                                                                           len(self.data)))\n",
    "\n",
    "        self.data = data\n",
    "        self.smiles = smiles\n",
    "        self.data_S = data_S\n",
    "        self.data_A = data_A\n",
    "        self.data_X = data_X\n",
    "        self.data_D = data_D\n",
    "        self.data_F = data_F\n",
    "        self.data_Le = data_Le\n",
    "        self.data_Lv = data_Lv\n",
    "        self.__len = len(self.data)\n",
    "\n",
    "    def _genA(self, mol, connected=True, max_length=None):\n",
    "\n",
    "        max_length = max_length if max_length is not None else mol.GetNumAtoms()\n",
    "\n",
    "        A = np.zeros(shape=(max_length, max_length), dtype=np.int32)\n",
    "\n",
    "        begin, end = [b.GetBeginAtomIdx() for b in mol.GetBonds()], [b.GetEndAtomIdx() for b in mol.GetBonds()]\n",
    "        bond_type = [self.bond_encoder_m[b.GetBondType()] for b in mol.GetBonds()]\n",
    "\n",
    "        A[begin, end] = bond_type\n",
    "        A[end, begin] = bond_type\n",
    "\n",
    "        degree = np.sum(A[:mol.GetNumAtoms(), :mol.GetNumAtoms()], axis=-1)\n",
    "\n",
    "        return A if connected and (degree > 0).all() else None\n",
    "\n",
    "    def _genX(self, mol, max_length=None):\n",
    "\n",
    "        max_length = max_length if max_length is not None else mol.GetNumAtoms()\n",
    "\n",
    "        return np.array([self.atom_encoder_m[atom.GetAtomicNum()] for atom in mol.GetAtoms()] + [0] * (\n",
    "                    max_length - mol.GetNumAtoms()), dtype=np.int32)\n",
    "\n",
    "    def _genS(self, mol, max_length=None):\n",
    "\n",
    "        max_length = max_length if max_length is not None else len(Chem.MolToSmiles(mol))\n",
    "\n",
    "        return np.array([self.smiles_encoder_m[c] for c in Chem.MolToSmiles(mol)] + [self.smiles_encoder_m['E']] * (\n",
    "                    max_length - len(Chem.MolToSmiles(mol))), dtype=np.int32)\n",
    "\n",
    "    def _genF(self, mol, max_length=None):\n",
    "\n",
    "        max_length = max_length if max_length is not None else mol.GetNumAtoms()\n",
    "\n",
    "        features = np.array([[*[a.GetDegree() == i for i in range(5)],\n",
    "                              *[a.GetExplicitValence() == i for i in range(9)],\n",
    "                              *[int(a.GetHybridization()) == i for i in range(1, 7)],\n",
    "                              *[a.GetImplicitValence() == i for i in range(9)],\n",
    "                              a.GetIsAromatic(),\n",
    "                              a.GetNoImplicit(),\n",
    "                              *[a.GetNumExplicitHs() == i for i in range(5)],\n",
    "                              *[a.GetNumImplicitHs() == i for i in range(5)],\n",
    "                              *[a.GetNumRadicalElectrons() == i for i in range(5)],\n",
    "                              a.IsInRing(),\n",
    "                              *[a.IsInRingSize(i) for i in range(2, 9)]] for a in mol.GetAtoms()], dtype=np.int32)\n",
    "\n",
    "        return np.vstack((features, np.zeros((max_length - features.shape[0], features.shape[1]))))\n",
    "\n",
    "    def matrices2mol(self, node_labels, edge_labels, strict=False):\n",
    "        mol = Chem.RWMol()\n",
    "\n",
    "        for node_label in node_labels:\n",
    "            mol.AddAtom(Chem.Atom(self.atom_decoder_m[node_label]))\n",
    "\n",
    "        for start, end in zip(*np.nonzero(edge_labels)):\n",
    "            if start > end:\n",
    "                mol.AddBond(int(start), int(end), self.bond_decoder_m[edge_labels[start, end]])\n",
    "\n",
    "        if strict:\n",
    "            try:\n",
    "                Chem.SanitizeMol(mol)\n",
    "            except:\n",
    "                mol = None\n",
    "\n",
    "        return mol\n",
    "\n",
    "    def seq2mol(self, seq, strict=False):\n",
    "        mol = Chem.MolFromSmiles(''.join([self.smiles_decoder_m[e] for e in seq if e != 0]))\n",
    "\n",
    "        if strict:\n",
    "            try:\n",
    "                Chem.SanitizeMol(mol)\n",
    "            except:\n",
    "                mol = None\n",
    "\n",
    "        return mol\n",
    "\n",
    "    def _generate_train_validation_test(self, validation, test):\n",
    "\n",
    "        self.log('Creating train, validation and test sets..')\n",
    "\n",
    "        validation = int(validation * len(self))\n",
    "        test = int(test * len(self))\n",
    "        train = len(self) - validation - test\n",
    "\n",
    "        self.all_idx = np.random.permutation(len(self))\n",
    "        self.train_idx = self.all_idx[0:train]\n",
    "        self.validation_idx = self.all_idx[train:train + validation]\n",
    "        self.test_idx = self.all_idx[train + validation:]\n",
    "\n",
    "        self.train_counter = 0\n",
    "        self.validation_counter = 0\n",
    "        self.test_counter = 0\n",
    "\n",
    "        self.train_count = train\n",
    "        self.validation_count = validation\n",
    "        self.test_count = test\n",
    "\n",
    "        self.log('Created train ({} items), validation ({} items) and test ({} items) sets!'.format(\n",
    "            train, validation, test))\n",
    "\n",
    "    def _next_batch(self, counter, count, idx, batch_size):\n",
    "        if batch_size is not None:\n",
    "            if counter + batch_size >= count:\n",
    "                counter = 0\n",
    "                np.random.shuffle(idx)\n",
    "\n",
    "            output = [obj[idx[counter:counter + batch_size]]\n",
    "                      for obj in (self.data, self.smiles, self.data_S, self.data_A, self.data_X,\n",
    "                                  self.data_D, self.data_F, self.data_Le, self.data_Lv)]\n",
    "\n",
    "            counter += batch_size\n",
    "        else:\n",
    "            output = [obj[idx] for obj in (self.data, self.smiles, self.data_S, self.data_A, self.data_X,\n",
    "                                           self.data_D, self.data_F, self.data_Le, self.data_Lv)]\n",
    "\n",
    "        return [counter] + output\n",
    "\n",
    "    def next_train_batch(self, batch_size=None):\n",
    "        out = self._next_batch(counter=self.train_counter, count=self.train_count,\n",
    "                               idx=self.train_idx, batch_size=batch_size)\n",
    "        self.train_counter = out[0]\n",
    "\n",
    "        return out[1:]\n",
    "\n",
    "    def next_validation_batch(self, batch_size=None):\n",
    "        out = self._next_batch(counter=self.validation_counter, count=self.validation_count,\n",
    "                               idx=self.validation_idx, batch_size=batch_size)\n",
    "        self.validation_counter = out[0]\n",
    "\n",
    "        return out[1:]\n",
    "\n",
    "    def next_test_batch(self, batch_size=None):\n",
    "        out = self._next_batch(counter=self.test_counter, count=self.test_count,\n",
    "                               idx=self.test_idx, batch_size=batch_size)\n",
    "        self.test_counter = out[0]\n",
    "\n",
    "        return out[1:]\n",
    "\n",
    "    @staticmethod\n",
    "    def log(msg='', date=True):\n",
    "        print(str(datetime.now().strftime('%Y-%m-%d %H:%M:%S')) + ' ' + str(msg) if date else str(msg))\n",
    "\n",
    "    def __len__(self):\n",
    "        return self.__len"
   ]
  },
  {
   "cell_type": "code",
   "execution_count": 3,
   "metadata": {},
   "outputs": [],
   "source": [
    "# QM9 dataset\n",
    "data = SparseMolecularDataset()\n"
   ]
  },
  {
   "cell_type": "code",
   "execution_count": 7,
   "metadata": {},
   "outputs": [
    {
     "name": "stdout",
     "output_type": "stream",
     "text": [
      "2023-03-18 20:30:11 Extracting ../data/qm9_5k.smi..\n",
      "2023-03-18 20:30:11 Extracted 4989 out of 1 molecules not adding Hydrogen!\n",
      "2023-03-18 20:30:11 Creating atoms encoder and decoder..\n",
      "2023-03-18 20:30:11 Created atoms encoder and decoder with 4 atom types and 1 PAD symbol!\n",
      "2023-03-18 20:30:11 Creating bonds encoder and decoder..\n",
      "2023-03-18 20:30:12 Created bonds encoder and decoder with 4 bond types and 1 PAD symbol!\n",
      "2023-03-18 20:30:12 Creating SMILES encoder and decoder..\n",
      "2023-03-18 20:30:12 Created SMILES encoder and decoder with 21 types and 1 PAD symbol!\n",
      "2023-03-18 20:30:12 Creating features and adjacency matrices..\n",
      "\n",
      "2023-03-18 20:30:17 Created 4989 features and adjacency matrices  out of 4989 molecules!\n",
      "2023-03-18 20:30:17 Creating train, validation and test sets..\n",
      "2023-03-18 20:30:17 Created train (3993 items), validation (498 items) and test (498 items) sets!\n"
     ]
    }
   ],
   "source": [
    "data.generate('../data/qm9_5k.smi', filters=lambda x: x.GetNumAtoms() <= 9)"
   ]
  },
  {
   "cell_type": "code",
   "execution_count": 23,
   "metadata": {},
   "outputs": [
    {
     "data": {
      "text/plain": [
       "dict_keys(['data', 'atom_encoder_m', 'atom_decoder_m', 'atom_num_types', 'bond_encoder_m', 'bond_decoder_m', 'bond_num_types', 'smiles_encoder_m', 'smiles_decoder_m', 'smiles_num_types', 'smiles', 'data_S', 'data_A', 'data_X', 'data_D', 'data_F', 'data_Le', 'data_Lv', '_SparseMolecularDataset__len', 'vertexes', 'features', 'all_idx', 'train_idx', 'validation_idx', 'test_idx', 'train_counter', 'validation_counter', 'test_counter', 'train_count', 'validation_count', 'test_count'])"
      ]
     },
     "execution_count": 23,
     "metadata": {},
     "output_type": "execute_result"
    }
   ],
   "source": [
    "data.__dict__.keys()"
   ]
  },
  {
   "cell_type": "code",
   "execution_count": 45,
   "metadata": {},
   "outputs": [
    {
     "data": {
      "text/plain": [
       "0"
      ]
     },
     "execution_count": 45,
     "metadata": {},
     "output_type": "execute_result"
    }
   ],
   "source": [
    "data.validation_counter"
   ]
  },
  {
   "cell_type": "code",
   "execution_count": 48,
   "metadata": {},
   "outputs": [
    {
     "name": "stdout",
     "output_type": "stream",
     "text": [
      "smiles = C1OC2C3OC4C3CC142\n"
     ]
    },
    {
     "data": {
      "image/png": "[encoded data removed]",
      "text/plain": [
       "<rdkit.Chem.rdchem.Mol at 0x7fe0461724a0>"
      ]
     },
     "execution_count": 48,
     "metadata": {},
     "output_type": "execute_result"
    }
   ],
   "source": [
    "n = 11\n",
    "print(f'smiles = {data.smiles[n]}')\n",
    "data.data[n]"
   ]
  },
  {
   "cell_type": "code",
   "execution_count": 22,
   "metadata": {},
   "outputs": [
    {
     "data": {
      "text/plain": [
       "22"
      ]
     },
     "execution_count": 22,
     "metadata": {},
     "output_type": "execute_result"
    }
   ],
   "source": [
    "len(data.smiles_encoder_m)"
   ]
  },
  {
   "cell_type": "code",
   "execution_count": 20,
   "metadata": {},
   "outputs": [
    {
     "data": {
      "text/plain": [
       "{rdkit.Chem.rdchem.BondType.ZERO: 0,\n",
       " rdkit.Chem.rdchem.BondType.SINGLE: 1,\n",
       " rdkit.Chem.rdchem.BondType.DOUBLE: 2,\n",
       " rdkit.Chem.rdchem.BondType.TRIPLE: 3,\n",
       " rdkit.Chem.rdchem.BondType.AROMATIC: 4}"
      ]
     },
     "execution_count": 20,
     "metadata": {},
     "output_type": "execute_result"
    }
   ],
   "source": [
    "data.bond_encoder_m"
   ]
  },
  {
   "cell_type": "code",
   "execution_count": 19,
   "metadata": {},
   "outputs": [
    {
     "data": {
      "text/plain": [
       "{0: 0, 1: 6, 2: 7, 3: 8, 4: 9}"
      ]
     },
     "execution_count": 19,
     "metadata": {},
     "output_type": "execute_result"
    }
   ],
   "source": [
    "data.atom_decoder_m"
   ]
  },
  {
   "cell_type": "code",
   "execution_count": 18,
   "metadata": {},
   "outputs": [
    {
     "data": {
      "text/plain": [
       "{0: 0, 6: 1, 7: 2, 8: 3, 9: 4}"
      ]
     },
     "execution_count": 18,
     "metadata": {},
     "output_type": "execute_result"
    }
   ],
   "source": [
    "data.atom_encoder_m"
   ]
  }
 ],
 "metadata": {
  "kernelspec": {
   "display_name": "molgan",
   "language": "python",
   "name": "python3"
  },
  "language_info": {
   "codemirror_mode": {
    "name": "ipython",
    "version": 3
   },
   "file_extension": ".py",
   "mimetype": "text/x-python",
   "name": "python",
   "nbconvert_exporter": "python",
   "pygments_lexer": "ipython3",
   "version": "3.9.2"
  },
  "orig_nbformat": 4
 },
 "nbformat": 4,
 "nbformat_minor": 2
}
